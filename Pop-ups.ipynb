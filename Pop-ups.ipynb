{
 "cells": [
  {
   "cell_type": "markdown",
   "id": "8c9df006",
   "metadata": {},
   "source": [
    "## Importing packages "
   ]
  },
  {
   "cell_type": "code",
   "execution_count": 1,
   "id": "2d44ca2e",
   "metadata": {},
   "outputs": [],
   "source": [
    "import guizero \n",
    "from guizero import App"
   ]
  },
  {
   "cell_type": "markdown",
   "id": "4f42841e",
   "metadata": {},
   "source": [
    "## Creating application window"
   ]
  },
  {
   "cell_type": "markdown",
   "id": "6872a02f",
   "metadata": {},
   "source": [
    "### Info-pop-ups"
   ]
  },
  {
   "cell_type": "code",
   "execution_count": 2,
   "id": "5df6e2d5",
   "metadata": {},
   "outputs": [],
   "source": [
    "app = App(title=\"Your application window\") #creating application window\n",
    "\n",
    "app.info(title=\"Information window\",text=\"This is a info message.\") #creating the notification window\n",
    "\n",
    "app.display() #displaying the windows"
   ]
  },
  {
   "cell_type": "markdown",
   "id": "dd4baffe",
   "metadata": {},
   "source": [
    "### warning-pop-ups"
   ]
  },
  {
   "cell_type": "code",
   "execution_count": 3,
   "id": "728fd4b1",
   "metadata": {},
   "outputs": [],
   "source": [
    "app = App(title=\"Your application window\") #creating application window\n",
    "\n",
    "app.warn(title=\"Warning window\",text=\"This is a warning message.\") #creating the notification window\n",
    "\n",
    "app.display() #displaying the windows"
   ]
  },
  {
   "cell_type": "markdown",
   "id": "b70a3cb7",
   "metadata": {},
   "source": [
    "### Error-pop-ups"
   ]
  },
  {
   "cell_type": "code",
   "execution_count": 4,
   "id": "e1fd436e",
   "metadata": {},
   "outputs": [],
   "source": [
    "app = App(title=\"Your application window\") #creating application window\n",
    "\n",
    "app.error(title=\"Error window\",text=\"This is an error message.\") #creating the notification window\n",
    "\n",
    "app.display() #displaying the windows"
   ]
  },
  {
   "cell_type": "code",
   "execution_count": null,
   "id": "c9135339",
   "metadata": {},
   "outputs": [],
   "source": []
  }
 ],
 "metadata": {
  "kernelspec": {
   "display_name": "Python 3 (ipykernel)",
   "language": "python",
   "name": "python3"
  },
  "language_info": {
   "codemirror_mode": {
    "name": "ipython",
    "version": 3
   },
   "file_extension": ".py",
   "mimetype": "text/x-python",
   "name": "python",
   "nbconvert_exporter": "python",
   "pygments_lexer": "ipython3",
   "version": "3.8.13"
  }
 },
 "nbformat": 4,
 "nbformat_minor": 5
}
