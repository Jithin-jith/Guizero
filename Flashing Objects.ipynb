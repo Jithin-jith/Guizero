{
 "cells": [
  {
   "cell_type": "code",
   "execution_count": 15,
   "id": "8b87b6fb",
   "metadata": {},
   "outputs": [],
   "source": [
    "from guizero import App,Text\n",
    "from guizero import Picture,PushButton,Drawing"
   ]
  },
  {
   "cell_type": "code",
   "execution_count": 29,
   "id": "e15d715f",
   "metadata": {},
   "outputs": [],
   "source": [
    "#flashing Text only\n",
    "def flash_text():\n",
    "    if text.visible == True:\n",
    "        text.hide()\n",
    "    else:\n",
    "        text.show()\n",
    "\n",
    "\n",
    "app = App(title=\"Flashing Text at regular intervals\",bg=\"#f7cac9\")\n",
    "text = Text(master=app,text=\"Flashing Text\", size=\"14\", font=\"Comic Sans\", color=\"black\",)\n",
    "\n",
    "flash_text()\n",
    "\n",
    "app.repeat(100, flash_text) #flash text every 100 milliseconds\n",
    "app.display()"
   ]
  },
  {
   "cell_type": "code",
   "execution_count": 30,
   "id": "f1102e91",
   "metadata": {},
   "outputs": [],
   "source": [
    "#flashing Text and Image\n",
    "def flash_text_image():\n",
    "    if text.visible == True and img.visible==True:\n",
    "        text.hide()\n",
    "        img.hide()\n",
    "    else:\n",
    "        text.show()\n",
    "        img.show()\n",
    "\n",
    "\n",
    "app = App(title=\"Flshing Text and Image\",bg=\"#bdcebe\")\n",
    "text = Text(master=app,text=\"Flashing Text\", size=\"14\", font=\"Comic Sans\", color=\"black\",)\n",
    "text2 = Text(master=app,text=\"\\n\")\n",
    "img = Picture(master=app,image=\"spy.png\")\n",
    "flash_text_image()\n",
    "\n",
    "app.repeat(100, flash_text_image)\n",
    "app.display()"
   ]
  },
  {
   "cell_type": "code",
   "execution_count": null,
   "id": "6c55b4f1",
   "metadata": {},
   "outputs": [],
   "source": []
  }
 ],
 "metadata": {
  "kernelspec": {
   "display_name": "Python 3 (ipykernel)",
   "language": "python",
   "name": "python3"
  },
  "language_info": {
   "codemirror_mode": {
    "name": "ipython",
    "version": 3
   },
   "file_extension": ".py",
   "mimetype": "text/x-python",
   "name": "python",
   "nbconvert_exporter": "python",
   "pygments_lexer": "ipython3",
   "version": "3.8.13"
  }
 },
 "nbformat": 4,
 "nbformat_minor": 5
}
