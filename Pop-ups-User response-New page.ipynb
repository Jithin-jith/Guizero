{
 "cells": [
  {
   "cell_type": "code",
   "execution_count": 11,
   "id": "56847f1a",
   "metadata": {},
   "outputs": [],
   "source": [
    "import guizero\n",
    "from guizero import App,PushButton,Text"
   ]
  },
  {
   "cell_type": "code",
   "execution_count": 13,
   "id": "7bcbf54a",
   "metadata": {},
   "outputs": [],
   "source": [
    "def yes_no(): #callback function for pushbutton\n",
    "    if app.yesno(title=\"confirmation\",text=\"Are you sure?\",): #if the user pressed the yes button\n",
    "        app.info(title=\"Yes input received\",text=\"Thanks for the response. Going to next page\")\n",
    "        app.destroy()\n",
    "        app2 = App(title=\"New page window\",bg=\"#F7819F\") #Next page window\n",
    "        text = Text(master=app2,text=\"\\n\") #A line space\n",
    "        text = Text(master=app2,text=\"Welcome to the new page window\",color=\"Black\") #first text in new page\n",
    "        app2.display()\n",
    "    else: #if the user pressed the no button\n",
    "        app.info(title=\"No input received\",text=\"Thanks for the response, staying in current page\")\n",
    "app = App(title=\"Main application window\",bg=\"#F6E3CE\") #Main application window\n",
    "text = Text(master=app,text=\"This window represents the main page of this application.\",color=\"red\") #first text in the window\n",
    "text = Text(master=app,text=\"\\n\") #A line space\n",
    "\n",
    "text = Text(master=app,text=\"Click the button below to go to next page.\",color=\"black\") #second text in the window\n",
    "\n",
    "\n",
    "button = PushButton(master=app,command=yes_no,text=\"Go to next page\",image=\"button.png\",width=100,height=100) #pushbutton customisation\n",
    "app.display() #display the app window\n"
   ]
  },
  {
   "cell_type": "code",
   "execution_count": null,
   "id": "cafdf3db",
   "metadata": {},
   "outputs": [],
   "source": []
  }
 ],
 "metadata": {
  "kernelspec": {
   "display_name": "Python 3 (ipykernel)",
   "language": "python",
   "name": "python3"
  },
  "language_info": {
   "codemirror_mode": {
    "name": "ipython",
    "version": 3
   },
   "file_extension": ".py",
   "mimetype": "text/x-python",
   "name": "python",
   "nbconvert_exporter": "python",
   "pygments_lexer": "ipython3",
   "version": "3.8.13"
  }
 },
 "nbformat": 4,
 "nbformat_minor": 5
}
