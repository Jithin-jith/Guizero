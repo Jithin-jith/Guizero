{
 "cells": [
  {
   "cell_type": "code",
   "execution_count": 72,
   "id": "b771f8eb",
   "metadata": {},
   "outputs": [],
   "source": [
    "import guizero\n",
    "from guizero import Text,App,Drawing,TextBox,Combo,Slider\n",
    "import cv2"
   ]
  },
  {
   "cell_type": "code",
   "execution_count": 81,
   "id": "18715f8f",
   "metadata": {},
   "outputs": [],
   "source": [
    "def draw_meme():\n",
    "    meme.clear()\n",
    "    meme.image(0,0,\"tom_jerry.png\")\n",
    "    k = meme.image(0,0,\"tom_jerry.png\")\n",
    "    meme.text(140,10,top_text.value,color=color1.value,size=size1.value,font=font1.value)\n",
    "    meme.text(140,330,bottom_text.value,color=color2.value,size=size2.value,font=font2.value)\n",
    "\n",
    "app = App(title=\"Welcome Screen\")\n",
    "top_text = TextBox(master=app, text=\"Tom and Jerry\",command=draw_meme)\n",
    "bottom_text = TextBox(master=app, text=\"Best Friends\",command=draw_meme)\n",
    "\n",
    "color1 = Combo(master=app,\n",
    "             options=[\"black\",\"white\",\"red\",\"green\",\"blue\",\"orange\"],\n",
    "             command=draw_meme,\n",
    "             selected=\"blue\",\n",
    "             width=10,\n",
    "             height=2)\n",
    "color2 = Combo(master=app,\n",
    "             options=[\"black\",\"white\",\"red\",\"green\",\"blue\",\"orange\"],\n",
    "             command=draw_meme,\n",
    "             selected=\"red\",\n",
    "             width=10,\n",
    "             height=2)\n",
    "font1 = Combo(master=app,\n",
    "              options=[\"times new roman\",\"verdana\",\"courier\",\"impact\"],\n",
    "              selected=\"times new roman\",\n",
    "              command=draw_meme,\n",
    "              width=20,\n",
    "              height=2)\n",
    "\n",
    "font2 = Combo(master=app,\n",
    "              options=[\"times new roman\",\"verdana\",\"courier\",\"impact\"],\n",
    "              selected=\"verdana\",\n",
    "              command=draw_meme,\n",
    "              width=20,\n",
    "              height=2)\n",
    "\n",
    "size1 = Slider(master=app,start=10,end=40,width=100,height=10,command=draw_meme)\n",
    "size2 = Slider(master=app,start=10,end=40,width=100,height=10,command=draw_meme)\n",
    "meme = Drawing(master=app,width=\"fill\",height=\"fill\",)\n",
    "draw_meme()\n",
    "\n",
    "app.display()"
   ]
  },
  {
   "cell_type": "code",
   "execution_count": null,
   "id": "2a880b18",
   "metadata": {},
   "outputs": [],
   "source": []
  }
 ],
 "metadata": {
  "kernelspec": {
   "display_name": "Python 3 (ipykernel)",
   "language": "python",
   "name": "python3"
  },
  "language_info": {
   "codemirror_mode": {
    "name": "ipython",
    "version": 3
   },
   "file_extension": ".py",
   "mimetype": "text/x-python",
   "name": "python",
   "nbconvert_exporter": "python",
   "pygments_lexer": "ipython3",
   "version": "3.8.13"
  }
 },
 "nbformat": 4,
 "nbformat_minor": 5
}
