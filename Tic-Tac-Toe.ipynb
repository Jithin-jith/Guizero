{
 "cells": [
  {
   "cell_type": "markdown",
   "id": "2b402e82",
   "metadata": {},
   "source": [
    "## Importing Packages"
   ]
  },
  {
   "cell_type": "code",
   "execution_count": 2,
   "id": "0b650136",
   "metadata": {},
   "outputs": [],
   "source": [
    "import guizero\n",
    "from guizero import App,Box,PushButton,Text"
   ]
  },
  {
   "cell_type": "code",
   "execution_count": 3,
   "id": "7275050f",
   "metadata": {},
   "outputs": [],
   "source": [
    "def choose_square(x,y): #function to choose a particular button in the board and add X or O accordingly\n",
    "    \n",
    "    if text1.value == \"Player X Turn\": #check if its player X turn\n",
    "        main_board[x][y].text = \"X\"    #Assign the value X to the selected button\n",
    "        main_board[x][y].disable()     #Disable the button after assigning value\n",
    "        text1.value = \"Player O Turn\"  #Change the text to let player O play\n",
    "\n",
    "    elif text1.value == \"Player O Turn\": #check if its player X turn\n",
    "        main_board[x][y].text = \"O\"      #Assign the value X to the selected button\n",
    "        main_board[x][y].disable()       #Disable the button after assigning value\n",
    "        text1.value = \"Player X Turn\"    #Change the text to let player X play\n",
    "        \n",
    "    check()\n",
    "        \n",
    "def clear_board():\n",
    "    new_board = [[None,None,None],[None,None,None],[None,None,None]]\n",
    "    for x in range(3):\n",
    "        for y in range(3):\n",
    "            button = PushButton(master=board,text=\"\",width=3,height=3,grid=[x,y],command = choose_square,args=[x,y])\n",
    "            new_board[x][y] = button\n",
    "    return new_board\n",
    "\n",
    "def check():\n",
    "    i=0\n",
    "    j=0\n",
    "    while(i<3 and j<3):\n",
    "        try:\n",
    "            \n",
    "            if (main_board[i][j].text==\"X\" and main_board[i][j+1].text==\"X\" and main_board[i][j+2].text==\"X\" ):\n",
    "                text2.value = \"Game over player X Won\"\n",
    "            elif (main_board[i][j].text==\"X\" and main_board[i+1][j+1].text==\"X\" and main_board[i+2][j+2].text==\"X\" ):\n",
    "                text2.value = \"Game over player X Won\"\n",
    "            elif (main_board[i][j].text==\"O\" and main_board[i][j+1].text==\"O\" and main_board[i][j+2].text==\"O\" ):\n",
    "                text2.value = \"Game over player O Won\"\n",
    "            elif (main_board[i][j].text==\"O\" and main_board[i+1][j+1].text==\"O\" and main_board[i+2][j+2].text==\"O\" ):\n",
    "                text2.value = \"Game over player O Won\"\n",
    "        except:\n",
    "            pass\n",
    "        i=i+1\n",
    "    i=0\n",
    "    j=0\n",
    "    while(i<3 and j<3):\n",
    "        if (main_board[i][j].text==\"X\" and main_board[i+1][j].text==\"X\" and main_board[i+2][j].text==\"X\"):\n",
    "            text2.value = \"Game over player X Won\"\n",
    "        elif (main_board[i][j].text==\"O\" and main_board[i+1][j].text==\"O\" and main_board[i+2][j].text==\"O\"):\n",
    "            text2.value = \"Game over player O Won\"\n",
    "        j=j+1\n",
    "\n",
    "    i=2\n",
    "    j=2\n",
    "    while(i>-1 and j>-1):\n",
    "        try:\n",
    "            if(main_board[i-2][j].text==\"X\" and main_board[i-1][j-1].text==\"X\" and main_board[i][j-2].text==\"X\" ):\n",
    "                text2.value = \"Game over player X Won\"\n",
    "\n",
    "            if(main_board[i-2][j].text==\"O\" and main_board[i-1][j-1].text==\"O\" and main_board[i][j-2].text==\"O\" ):\n",
    "                text2.value = \"Game over player O Won\"\n",
    "        except:\n",
    "            pass\n",
    "        i=i-1\n",
    "\n",
    "app = App(title=\"Tic-Tac-Toe\",bg=\"#FBEFEF\")\n",
    "text1 = Text(master=app,text=\"Player X Turn\")\n",
    "text_space = Text(master=app,text=\"\\n\")\n",
    "board = Box(master=app,layout=\"grid\")\n",
    "text_space = Text(master=app,text=\"\\n\")\n",
    "text2 = Text(master=app,color=\"red\",text=\"\")\n",
    "main_board = clear_board()\n",
    "app.display()"
   ]
  },
  {
   "cell_type": "code",
   "execution_count": null,
   "id": "5dcae2a8",
   "metadata": {},
   "outputs": [],
   "source": []
  }
 ],
 "metadata": {
  "kernelspec": {
   "display_name": "Python 3 (ipykernel)",
   "language": "python",
   "name": "python3"
  },
  "language_info": {
   "codemirror_mode": {
    "name": "ipython",
    "version": 3
   },
   "file_extension": ".py",
   "mimetype": "text/x-python",
   "name": "python",
   "nbconvert_exporter": "python",
   "pygments_lexer": "ipython3",
   "version": "3.8.13"
  }
 },
 "nbformat": 4,
 "nbformat_minor": 5
}
