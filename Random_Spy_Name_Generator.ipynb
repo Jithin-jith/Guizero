{
 "cells": [
  {
   "cell_type": "code",
   "execution_count": 1,
   "id": "5d967496",
   "metadata": {},
   "outputs": [],
   "source": [
    "import guizero\n",
    "from random import choice\n",
    "from guizero import App,Text,Picture,PushButton"
   ]
  },
  {
   "cell_type": "code",
   "execution_count": 2,
   "id": "cf9c625a",
   "metadata": {},
   "outputs": [],
   "source": [
    "def name():\n",
    "    first = [\"john\",\"james\",\"lukka\",\"andrew\"]\n",
    "    last = [\"marco\",\"polo\",\"zidane\",\"ronaldihno\"]\n",
    "    \n",
    "    first_name = choice(first)\n",
    "    last_name = choice(last)\n",
    "    names = first_name + \" \" + last_name\n",
    "    text2.value = names\n",
    "\n",
    "\n",
    "app = App(title=\"Welcome to the DarkWeb\",bg=\"grey\",)\n",
    "text = Text(master=app,text=\"This is a Random Spy Name Generator\",size=20,color=\"black\",font=\"Times New Roman\")\n",
    "# text = Text(master=app,text=\"\\n\")\n",
    "pic = Picture(master=app,image=\"spy.png\")\n",
    "text = Text(master=app,text=\"\\n\")\n",
    "text = Text(master=app,text=\"Push this button to generate your Spy Name\",size=20,color=\"yellow\",font=\"Times New Roman\")\n",
    "text = Text(master=app,text=\"\\n\")\n",
    "pb = PushButton(master=app,command=name,text=\"Push\",image=\"button.png\",width=100,height=100)\n",
    "text2 = Text(master=app,text=\"\",size=20,color=\"dark green\",font=\"Times New Roman\")\n",
    "app.display()"
   ]
  },
  {
   "cell_type": "code",
   "execution_count": null,
   "id": "3ac05d32",
   "metadata": {},
   "outputs": [],
   "source": []
  }
 ],
 "metadata": {
  "kernelspec": {
   "display_name": "Python 3 (ipykernel)",
   "language": "python",
   "name": "python3"
  },
  "language_info": {
   "codemirror_mode": {
    "name": "ipython",
    "version": 3
   },
   "file_extension": ".py",
   "mimetype": "text/x-python",
   "name": "python",
   "nbconvert_exporter": "python",
   "pygments_lexer": "ipython3",
   "version": "3.8.13"
  }
 },
 "nbformat": 4,
 "nbformat_minor": 5
}
