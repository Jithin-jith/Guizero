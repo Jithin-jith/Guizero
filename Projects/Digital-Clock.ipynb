{
 "cells": [
  {
   "cell_type": "code",
   "execution_count": 21,
   "id": "6165233f",
   "metadata": {},
   "outputs": [],
   "source": [
    "import guizero\n",
    "from guizero import App,Text,PushButton,Box,Picture\n",
    "import time"
   ]
  },
  {
   "cell_type": "code",
   "execution_count": 30,
   "id": "e7639c58",
   "metadata": {},
   "outputs": [],
   "source": [
    "def time():\n",
    "    import time\n",
    "    curr_time = time.strftime(\"%H:%M:%S\", time.localtime())\n",
    "    str_time = str(curr_time)\n",
    "    text.value = str_time\n",
    "\n",
    "    \n",
    "app = App(title=\"Digital clock\",bg = \"#A9F5E1\",height=20,width=200)\n",
    "text = Text(master=app,text=\"\")\n",
    "time()\n",
    "\n",
    "app.repeat(time=1000,function=time)\n",
    "app.display()"
   ]
  },
  {
   "cell_type": "code",
   "execution_count": 1,
   "id": "1fe0f7ae",
   "metadata": {},
   "outputs": [
    {
     "name": "stdout",
     "output_type": "stream",
     "text": [
      "Collecting playsound\n",
      "  Downloading playsound-1.3.0.tar.gz (7.7 kB)\n",
      "  Preparing metadata (setup.py): started\n",
      "  Preparing metadata (setup.py): finished with status 'done'\n",
      "Building wheels for collected packages: playsound\n",
      "  Building wheel for playsound (setup.py): started\n",
      "  Building wheel for playsound (setup.py): finished with status 'done'\n",
      "  Created wheel for playsound: filename=playsound-1.3.0-py3-none-any.whl size=7061 sha256=91aade3f8e4692886807295ae93e9bb1316de1004cabf7ff88eda56ec9a13014\n",
      "  Stored in directory: c:\\users\\33226\\appdata\\local\\pip\\cache\\wheels\\6a\\77\\c4\\6ed630d7b0e68442ed69150ebac62c3220a835b5001ab4cf7c\n",
      "Successfully built playsound\n",
      "Installing collected packages: playsound\n",
      "Successfully installed playsound-1.3.0\n"
     ]
    }
   ],
   "source": [
    "!pip install playsound"
   ]
  },
  {
   "cell_type": "code",
   "execution_count": 3,
   "id": "fde166cb",
   "metadata": {},
   "outputs": [],
   "source": [
    "import datetime\n",
    "from playsound import playsound"
   ]
  },
  {
   "cell_type": "code",
   "execution_count": null,
   "id": "46ba7686",
   "metadata": {},
   "outputs": [],
   "source": [
    "alarm_time = input(\"Enter the alarm time in : \")"
   ]
  }
 ],
 "metadata": {
  "kernelspec": {
   "display_name": "Python 3 (ipykernel)",
   "language": "python",
   "name": "python3"
  },
  "language_info": {
   "codemirror_mode": {
    "name": "ipython",
    "version": 3
   },
   "file_extension": ".py",
   "mimetype": "text/x-python",
   "name": "python",
   "nbconvert_exporter": "python",
   "pygments_lexer": "ipython3",
   "version": "3.8.13"
  }
 },
 "nbformat": 4,
 "nbformat_minor": 5
}
