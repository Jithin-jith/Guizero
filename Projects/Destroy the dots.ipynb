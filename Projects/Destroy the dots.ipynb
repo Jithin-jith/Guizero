{
 "cells": [
  {
   "cell_type": "code",
   "execution_count": 1,
   "id": "35c35ad2",
   "metadata": {},
   "outputs": [],
   "source": [
    "import guizero\n",
    "from guizero import App,PushButton,Waffle,Text\n",
    "import random\n",
    "import time\n",
    "import numpy as np"
   ]
  },
  {
   "cell_type": "code",
   "execution_count": 18,
   "id": "54d31de0",
   "metadata": {},
   "outputs": [],
   "source": [
    "def set_buttons(x,y):\n",
    "    \n",
    "\n",
    "    if grid[x,y].dotty == True:\n",
    "        grid[x,y].dotty = False\n",
    "        grid[x,y].color = \"white\"\n",
    "    else:\n",
    "        pass\n",
    "    one_game()\n",
    "    \n",
    "    \n",
    "\n",
    "def one_game():\n",
    "    row = [x for x in range(7)]\n",
    "    col = [y for y in range(7)]\n",
    "    \n",
    "    dots = np.random.randint(0,3)\n",
    "    \n",
    "    row_selected = []\n",
    "    col_selcected = []\n",
    "    \n",
    "    for i in range(dots):\n",
    "        row_selected.append(random.choice(row))\n",
    "        col_selcected.append(random.choice(col))\n",
    "        grid[row_selected[i],col_selcected[i]].dotty = True\n",
    "        grid[row_selected[i],col_selcected[i]].color = \"red\"\n",
    "    \n",
    "    \n",
    "def start_game():\n",
    "        \n",
    "    row = [x for x in range(7)]\n",
    "    col = [y for y in range(7)]\n",
    "    \n",
    "    row_selected = []\n",
    "    col_selcected = []\n",
    "    \n",
    "    for i in range(3):\n",
    "        row_selected.append(random.choice(row))\n",
    "        col_selcected.append(random.choice(col))\n",
    "\n",
    "\n",
    "    grid[row_selected[0],col_selcected[0]].dotty = True\n",
    "    grid[row_selected[0],col_selcected[0]].color = \"red\"\n",
    "    grid[row_selected[1],col_selcected[1]].dotty = True\n",
    "    grid[row_selected[1],col_selcected[1]].color = \"red\"\n",
    "    grid[row_selected[2],col_selcected[2]].dotty = True\n",
    "    grid[row_selected[2],col_selcected[2]].color = \"red\"\n",
    "\n",
    "\n",
    "    \n",
    "app = App(title=\"Destroy the dots\",bg=\"#CECEF6\")\n",
    "text = Text(master=app,text=\"Click on the dots to destroy them!\")\n",
    "button = PushButton(master=app,command=start_game,text=\"Start Game\")\n",
    "\n",
    "grid = Waffle(master=app,bg=\"#F5F6CE\",width=7,height=7,dim=40,\n",
    "              command=set_buttons,\n",
    "             )\n",
    "text2 = Text(master=app,text=\"\")\n",
    "app.display()"
   ]
  },
  {
   "cell_type": "code",
   "execution_count": null,
   "id": "fb3dc366",
   "metadata": {},
   "outputs": [],
   "source": []
  }
 ],
 "metadata": {
  "kernelspec": {
   "display_name": "Python 3 (ipykernel)",
   "language": "python",
   "name": "python3"
  },
  "language_info": {
   "codemirror_mode": {
    "name": "ipython",
    "version": 3
   },
   "file_extension": ".py",
   "mimetype": "text/x-python",
   "name": "python",
   "nbconvert_exporter": "python",
   "pygments_lexer": "ipython3",
   "version": "3.8.13"
  }
 },
 "nbformat": 4,
 "nbformat_minor": 5
}
